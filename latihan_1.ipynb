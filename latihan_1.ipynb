{
 "cells": [
  {
   "cell_type": "markdown",
   "metadata": {
    "button": false,
    "colab_type": "text",
    "id": "DmRQ6P5Mp6bO",
    "new_sheet": false,
    "run_control": {
     "read_only": false
    }
   },
   "source": [
    "## Assignment"
   ]
  },
  {
   "cell_type": "markdown",
   "metadata": {
    "button": false,
    "colab_type": "text",
    "id": "-lX55BxPp6bT",
    "new_sheet": false,
    "run_control": {
     "read_only": false
    }
   },
   "source": [
    "Import necessary library"
   ]
  },
  {
   "cell_type": "code",
   "execution_count": null,
   "metadata": {
    "button": false,
    "colab": {},
    "colab_type": "code",
    "id": "UPtHDSaNp6bT",
    "new_sheet": false,
    "run_control": {
     "read_only": false
    },
    "scrolled": false
   },
   "outputs": [],
   "source": [
    "import numpy as np  # useful for many scientific computing in Python\n",
    "import pandas as pd # primary data structure library"
   ]
  },
  {
   "cell_type": "markdown",
   "metadata": {
    "button": false,
    "colab_type": "text",
    "id": "uvwaLWxmp6bZ",
    "new_sheet": false,
    "run_control": {
     "read_only": false
    }
   },
   "source": [
    "Read the data"
   ]
  },
  {
   "cell_type": "code",
   "execution_count": null,
   "metadata": {
    "button": false,
    "colab": {
     "base_uri": "https://localhost:8080/",
     "height": 34
    },
    "colab_type": "code",
    "executionInfo": {
     "elapsed": 2783,
     "status": "ok",
     "timestamp": 1561624447790,
     "user": {
      "displayName": "Andreas Hadiyono",
      "photoUrl": "https://lh5.googleusercontent.com/-4s7QoHYbZHs/AAAAAAAAAAI/AAAAAAAAAd4/M8vEMULW7HY/s64/photo.jpg",
      "userId": "01108007576120983264"
     },
     "user_tz": -420
    },
    "id": "nLOkU--Mp6ba",
    "new_sheet": false,
    "outputId": "95e5a4a1-8ff0-4c95-9939-a0682ef643e7",
    "run_control": {
     "read_only": false
    },
    "scrolled": false
   },
   "outputs": [],
   "source": [
    "df_can = pd.read_excel('https://s3-api.us-geo.objectstorage.softlayer.net/cf-courses-data/CognitiveClass/DV0101EN/labs/Data_Files/Canada.xlsx',\n",
    "                       sheet_name='Canada by Citizenship',\n",
    "                       skiprows=range(20),\n",
    "                       skipfooter=2)"
   ]
  },
  {
   "cell_type": "markdown",
   "metadata": {},
   "source": [
    "Drop unnecessary columns"
   ]
  },
  {
   "cell_type": "code",
   "execution_count": null,
   "metadata": {
    "button": false,
    "colab": {
     "base_uri": "https://localhost:8080/",
     "height": 162
    },
    "colab_type": "code",
    "executionInfo": {
     "elapsed": 2968,
     "status": "ok",
     "timestamp": 1561624448157,
     "user": {
      "displayName": "Andreas Hadiyono",
      "photoUrl": "https://lh5.googleusercontent.com/-4s7QoHYbZHs/AAAAAAAAAAI/AAAAAAAAAd4/M8vEMULW7HY/s64/photo.jpg",
      "userId": "01108007576120983264"
     },
     "user_tz": -420
    },
    "id": "IEODAu12p6b-",
    "new_sheet": false,
    "outputId": "f2c9c7ea-6a3c-44fd-f659-f6f128eba398",
    "run_control": {
     "read_only": false
    },
    "scrolled": false
   },
   "outputs": [],
   "source": [
    "# in pandas axis=0 represents rows (default) and axis=1 represents columns.\n",
    "df_can.drop(['AREA','REG','DEV','Type','Coverage'], axis=1, inplace=True)\n",
    "df_can.head(2)"
   ]
  },
  {
   "cell_type": "markdown",
   "metadata": {
    "button": false,
    "colab_type": "text",
    "id": "kKvx0SQEp6cA",
    "new_sheet": false,
    "run_control": {
     "read_only": false
    }
   },
   "source": [
    "Rename columns title"
   ]
  },
  {
   "cell_type": "code",
   "execution_count": null,
   "metadata": {
    "button": false,
    "colab": {
     "base_uri": "https://localhost:8080/",
     "height": 170
    },
    "colab_type": "code",
    "executionInfo": {
     "elapsed": 2958,
     "status": "ok",
     "timestamp": 1561624448159,
     "user": {
      "displayName": "Andreas Hadiyono",
      "photoUrl": "https://lh5.googleusercontent.com/-4s7QoHYbZHs/AAAAAAAAAAI/AAAAAAAAAd4/M8vEMULW7HY/s64/photo.jpg",
      "userId": "01108007576120983264"
     },
     "user_tz": -420
    },
    "id": "ptbQRotVp6cB",
    "new_sheet": false,
    "outputId": "b7c0d48e-c5b6-4703-a8d6-3cc5f183f6da",
    "run_control": {
     "read_only": false
    },
    "scrolled": false
   },
   "outputs": [],
   "source": [
    "df_can.rename(columns={'OdName':'Country', 'AreaName':'Continent', 'RegName':'Region'}, inplace=True)\n",
    "df_can.columns"
   ]
  },
  {
   "cell_type": "markdown",
   "metadata": {
    "button": false,
    "colab_type": "text",
    "id": "Nc9bePeKp6cE",
    "new_sheet": false,
    "run_control": {
     "read_only": false
    }
   },
   "source": [
    "Add a 'Total' column"
   ]
  },
  {
   "cell_type": "code",
   "execution_count": null,
   "metadata": {
    "button": false,
    "colab": {},
    "colab_type": "code",
    "id": "7QJwDj8yp6cG",
    "new_sheet": false,
    "run_control": {
     "read_only": false
    },
    "scrolled": false
   },
   "outputs": [],
   "source": [
    "df_can['Total'] = df_can.select_dtypes(include=['number']).sum(axis=1)\n"
   ]
  },
  {
   "cell_type": "markdown",
   "metadata": {
    "button": false,
    "colab_type": "text",
    "id": "BKt5mxeap6d4",
    "new_sheet": false,
    "run_control": {
     "read_only": false
    }
   },
   "source": [
    "**Question 1:** Let's compare the number of immigrants from India and China from 1980 to 2013.\n"
   ]
  },
  {
   "cell_type": "markdown",
   "metadata": {
    "button": false,
    "colab_type": "text",
    "id": "8fSH2TpUp6d5",
    "new_sheet": false,
    "run_control": {
     "read_only": false
    }
   },
   "source": [
    "Step 1: Get the data set for China and India, and display dataframe."
   ]
  },
  {
   "cell_type": "code",
   "execution_count": null,
   "metadata": {
    "button": false,
    "colab": {},
    "colab_type": "code",
    "id": "oN4S30_Yp6d6",
    "new_sheet": false,
    "run_control": {
     "read_only": false
    },
    "scrolled": true
   },
   "outputs": [],
   "source": [
    "df_india = df_can[df_can.apply(lambda row: row.astype(str).str.contains('India', case=False, na=False).any(), axis=1)]\n",
    "df_china = df_can[df_can.apply(lambda row: row.astype(str).str.contains('China', case=False, na=False).any(), axis=1)]\n",
    "\n",
    "# Menambahkan kolom identitas untuk groupby\n",
    "df_india = df_india.assign(Country_Filtered='India')\n",
    "df_china = df_china.assign(Country_Filtered='China')\n",
    "\n",
    "# Menggabungkan data\n",
    "df_combined = pd.concat([df_india, df_china])\n",
    "\n",
    "# Menggabungkan baris yang sama dan menjumlahkan nilai numerik\n",
    "df_combined = df_combined.groupby(\"Country_Filtered\", as_index=False).sum(numeric_only=True)\n",
    "\"\"\"menggunakan sum numeric only jadi agar ketika negara cina yang daerah lainnya\n",
    "dapat dijadikan satu \"\"\"\n",
    "display(df_combined)\n"
   ]
  },
  {
   "cell_type": "markdown",
   "metadata": {
    "button": false,
    "colab_type": "text",
    "id": "u-fOGhBjp6d-",
    "new_sheet": false,
    "run_control": {
     "read_only": false
    }
   },
   "source": [
    "Step 2: Plot graph. We will explicitly specify line plot by passing in `kind` parameter to `plot()`."
   ]
  },
  {
   "cell_type": "code",
   "execution_count": null,
   "metadata": {
    "button": false,
    "colab": {},
    "colab_type": "code",
    "id": "4MCfVK_Yp6eA",
    "new_sheet": false,
    "run_control": {
     "read_only": false
    },
    "scrolled": true
   },
   "outputs": [],
   "source": [
    "import matplotlib.pyplot as plt\n",
    "\n",
    "tahun = df_combined.columns[1:-1]  \n",
    "#Ambil semua kolom kecuali Country_Filtered dan Total\n",
    "#Country_Filtered = 0, kalo dari paling terakhir = -1 jadi krg 1 dri blk\n",
    "\n",
    "# Plot data\n",
    "ax = df_combined.set_index(\"Country_Filtered\")[tahun].T.plot(kind='line', \n",
    "                            figsize=(10, 5), color=['blue', 'red'])\n",
    "#\n",
    "\n",
    "plt.title(\"Jumlah Data Imigrant per Tahun China dan India\")\n",
    "plt.xlabel(\"Tahun\")\n",
    "plt.ylabel(\"Jumlah\")\n",
    "plt.legend(title=\"Negara\")\n",
    "plt.grid(True)\n",
    "\n",
    "# Menampilkan grafik\n",
    "plt.show()\n"
   ]
  },
  {
   "cell_type": "markdown",
   "metadata": {
    "button": false,
    "colab_type": "text",
    "id": "UuuBI9MQp6eP",
    "new_sheet": false,
    "run_control": {
     "read_only": false
    }
   },
   "source": [
    "**Question 2:** Compare the trend of top 5 countries that contributed the most to immigration to Canada."
   ]
  },
  {
   "cell_type": "markdown",
   "metadata": {},
   "source": [
    "Step 1: Get the data set for top 5 countries"
   ]
  },
  {
   "cell_type": "code",
   "execution_count": null,
   "metadata": {
    "button": false,
    "colab": {},
    "colab_type": "code",
    "id": "JmnoRTmDp6eP",
    "new_sheet": false,
    "run_control": {
     "read_only": false
    }
   },
   "outputs": [],
   "source": [
    "# Mengurutkan berdasarkan kolom \"Total\" dari terbesar ke terkecil, lalu ambil 5 negara teratas\n",
    "df_top5 = df_can.sort_values(by=\"Total\", ascending=False).head(5)\n",
    "\n",
    "# Menampilkan hasil\n",
    "display(df_top5)\n"
   ]
  },
  {
   "cell_type": "markdown",
   "metadata": {},
   "source": [
    "Step 2: Plot graph"
   ]
  },
  {
   "cell_type": "code",
   "execution_count": null,
   "metadata": {
    "button": false,
    "colab": {},
    "colab_type": "code",
    "id": "q5C2Yibxq4dk",
    "new_sheet": false,
    "run_control": {
     "read_only": false
    }
   },
   "outputs": [],
   "source": [
    "df_top5 = df_can.sort_values(by=\"Total\", ascending=False).head(5)\n",
    "# Mengambil kolom tahun (dari kolom ke-2 hingga sebelum kolom \"Total\")\n",
    "tahun = df_can.columns[4:-1]  # Ambil semua kolom kecuali \"Country\" dan \"Total\"\n",
    "\n",
    "# Membuat plot\n",
    "plt.figure(figsize=(12, 6))\n",
    "\n",
    "# Loop untuk membuat garis untuk setiap negara\n",
    "for country in df_top5[\"Country\"]:\n",
    "    plt.plot(tahun, df_top5[df_top5[\"Country\"] == country][tahun].values.flatten(), label=country)\n",
    "\n",
    "# Menambahkan judul, label, dan legend\n",
    "plt.title(\"Top 5 Negara dengan Jumlah Terbanyak (Berdasarkan Total)\")\n",
    "plt.xlabel(\"Tahun\")\n",
    "plt.ylabel(\"Jumlah\")\n",
    "plt.legend(title=\"Negara\")\n",
    "plt.grid(True)\n",
    "\n",
    "# Menampilkan plot\n",
    "plt.show()\n"
   ]
  },
  {
   "cell_type": "markdown",
   "metadata": {
    "button": false,
    "colab_type": "text",
    "id": "jFxW-aYgq4dm",
    "new_sheet": false,
    "run_control": {
     "read_only": false
    }
   },
   "source": [
    "**Question 3**: Create an unstacked area plot of the 5 countries that contributed the least to immigration to Canada **from** 1980 to 2013. Use a transparency value of 0.55."
   ]
  },
  {
   "cell_type": "code",
   "execution_count": null,
   "metadata": {
    "button": false,
    "colab": {},
    "colab_type": "code",
    "id": "xLYF2_rSq4dn",
    "new_sheet": false,
    "run_control": {
     "read_only": false
    }
   },
   "outputs": [],
   "source": [
    "df_top5 = df_top5.set_index(\"Country\")[tahun].T\n",
    "df_top5 = df_top5[df_top5.columns[::-1]]  # Membalik urutan kolom (negara)\n",
    "\n",
    "# Membuat area plot dengan transparansi 0.55\n",
    "plt.figure(figsize=(12, 6))\n",
    "df_top5.plot(kind=\"area\", alpha=0.55, figsize=(12, 6))\n",
    "\n",
    "# Menambahkan judul, label, dan legend\n",
    "plt.title(\"Immigration Trend of Top 5 Countries\")\n",
    "plt.xlabel(\"Years\")\n",
    "plt.ylabel(\"Number of Immigrants\")\n",
    "plt.legend(title=\"Country\")\n",
    "plt.grid(True)\n",
    "\n",
    "# Menampilkan plot\n",
    "plt.show()"
   ]
  },
  {
   "cell_type": "markdown",
   "metadata": {
    "button": false,
    "colab_type": "text",
    "id": "35IWzPyqq4eO",
    "new_sheet": false,
    "run_control": {
     "read_only": false
    }
   },
   "source": [
    "**Question 4**: Display the immigration distribution for Greece, Albania, and Bulgaria for years 1980 - 2013? Use an overlapping plot with 15 bins and a transparency value of 0.35."
   ]
  },
  {
   "cell_type": "code",
   "execution_count": null,
   "metadata": {
    "button": false,
    "colab": {},
    "colab_type": "code",
    "id": "9wlo6AvAq4eO",
    "new_sheet": false,
    "run_control": {
     "read_only": false
    }
   },
   "outputs": [],
   "source": [
    "negara_tambahan = [\"Greece\", \"Albania\", \"Bulgaria\"]\n",
    "df_extra = df_can[df_can[\"Country\"].isin(negara_tambahan)].set_index(\"Country\")[tahun]\n",
    "\n",
    "# Transpose TIDAK diperlukan jika kita hanya ingin mengambil nilai (series) per negara\n",
    "# karena histogram akan menganggap sekumpulan nilai (1980–2013) sebagai 1 distribusi.\n",
    "\n",
    "plt.figure(figsize=(10, 6))\n",
    "\n",
    "for negara in negara_tambahan:\n",
    "    # df_extra.loc[negara] -> Series (jumlah imigran dari 1980-2013)\n",
    "    plt.hist(df_extra.loc[negara], \n",
    "                bins=15, \n",
    "                alpha=0.35, \n",
    "                label=negara)\n",
    "\n",
    "plt.title(\"Distribusi Imigran Negara Greece, Albania, Bulgaria 1980–2013\")\n",
    "plt.xlabel(\"Jumlah Imigran\")\n",
    "plt.ylabel(\"angka dalam tahun\")\n",
    "plt.legend()\n",
    "plt.grid(True)\n",
    "plt.show()"
   ]
  },
  {
   "cell_type": "markdown",
   "metadata": {
    "button": false,
    "colab_type": "text",
    "id": "b2weGHgHq4ej",
    "new_sheet": false,
    "run_control": {
     "read_only": false
    }
   },
   "source": [
    "**Question 5:** Create a *horizontal* bar plot showing the *total* number of immigrants to Canada from the top 15 countries, for the period 1980 - 2013. Label each country with the total immigrant count."
   ]
  },
  {
   "cell_type": "markdown",
   "metadata": {
    "button": false,
    "colab_type": "text",
    "id": "mTITTjcLq4ek",
    "new_sheet": false,
    "run_control": {
     "read_only": false
    }
   },
   "source": [
    "Step 1: Get the data pertaining to the top 15 countries."
   ]
  },
  {
   "cell_type": "code",
   "execution_count": null,
   "metadata": {
    "button": false,
    "colab": {},
    "colab_type": "code",
    "id": "Tl9JyIydq4el",
    "new_sheet": false,
    "run_control": {
     "read_only": false
    }
   },
   "outputs": [],
   "source": [
    "df_top15 = df_can.sort_values(by=\"Total\", ascending=False).head(15)\n",
    "display(df_top15)\n"
   ]
  },
  {
   "cell_type": "markdown",
   "metadata": {
    "button": false,
    "colab_type": "text",
    "id": "ngCvLeJoq4en",
    "new_sheet": false,
    "run_control": {
     "read_only": false
    }
   },
   "source": [
    "Step 2: Plot data:\n",
    "   1. Use `kind='barh'` to generate a bar chart with horizontal bars.\n",
    "   2. Make sure to choose a good size for the plot and to label your axes and to give the plot a title.\n",
    "<!--    3. Loop through the countries and annotate the immigrant population using the anotate function of the scripting interface. -->"
   ]
  },
  {
   "cell_type": "code",
   "execution_count": null,
   "metadata": {
    "button": false,
    "colab": {},
    "colab_type": "code",
    "id": "ad66TSpJq4en",
    "new_sheet": false,
    "run_control": {
     "read_only": false
    }
   },
   "outputs": [],
   "source": [
    "# Membuat figure dan axes\n",
    "plt.figure(figsize=(12, 8))\n",
    "    \n",
    "# Membuat horizontal bar chart\n",
    "bars = plt.barh(df_top15[\"Country\"], df_top15[\"Total\"], color=\"skyblue\")\n",
    "\n",
    "# Menambahkan label jumlah total imigran di setiap batang\n",
    "for bar in bars:\n",
    "    plt.text(bar.get_width() + 5000,  # Posisi teks sedikit di kanan batang\n",
    "                bar.get_y() + bar.get_height()/2,  # Posisi tengah batang\n",
    "                f\"{int(bar.get_width()):,}\",  # Format angka dengan pemisah ribuan\n",
    "                va=\"center\", ha=\"left\", fontsize=10, color=\"black\")\n",
    "\n",
    "# Menambahkan judul dan label sumbu\n",
    "plt.xlabel(\"Total Immigrants (1980–2013)\")\n",
    "plt.ylabel(\"Country\")\n",
    "plt.title(\"Top 15 Countries - Total Immigration to Canada (1980–2013)\")\n",
    "plt.gca().invert_yaxis()  # Membalik urutan agar negara dengan imigran terbanyak di atas\n",
    "plt.grid(axis=\"x\", linestyle=\"--\", alpha=0.7)  # Grid vertikal untuk membantu pembacaan angka\n",
    "\n",
    "# Menampilkan plot\n",
    "plt.show()"
   ]
  },
  {
   "cell_type": "markdown",
   "metadata": {
    "button": false,
    "colab_type": "text",
    "id": "LoCn2Forq4ep",
    "new_sheet": false,
    "run_control": {
     "read_only": false
    }
   },
   "source": [
    "# Thank you for completing this lab!"
   ]
  },
  {
   "cell_type": "markdown",
   "metadata": {
    "button": false,
    "colab_type": "text",
    "id": "GBiJn-qnq4eq",
    "new_sheet": false,
    "run_control": {
     "read_only": false
    }
   },
   "source": [
    "<hr>\n",
    "\n",
    "Copyright &copy; 2019 [Cognitive Class](https://cognitiveclass.ai/?utm_source=bducopyrightlink&utm_medium=dswb&utm_campaign=bdu). This notebook and its source code are released under the terms of the [MIT License](https://bigdatauniversity.com/mit-license/)."
   ]
  }
 ],
 "metadata": {
  "colab": {
   "name": "DV0101EN-01-Introduction-to-Matplotlib-and-Line-Plots-py.ipynb",
   "provenance": [],
   "version": "0.3.2"
  },
  "kernelspec": {
   "display_name": "Python 3",
   "language": "python",
   "name": "python3"
  },
  "language_info": {
   "codemirror_mode": {
    "name": "ipython",
    "version": 3
   },
   "file_extension": ".py",
   "mimetype": "text/x-python",
   "name": "python",
   "nbconvert_exporter": "python",
   "pygments_lexer": "ipython3",
   "version": "3.12.2"
  }
 },
 "nbformat": 4,
 "nbformat_minor": 1
}
